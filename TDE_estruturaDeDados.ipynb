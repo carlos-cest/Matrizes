{
  "cells": [
    {
      "cell_type": "markdown",
      "metadata": {
        "id": "view-in-github",
        "colab_type": "text"
      },
      "source": [
        "<a href=\"https://colab.research.google.com/github/carlos-cest/Matrizes/blob/main/TDE_estruturaDeDados.ipynb\" target=\"_parent\"><img src=\"https://colab.research.google.com/assets/colab-badge.svg\" alt=\"Open In Colab\"/></a>"
      ]
    },
    {
      "cell_type": "code",
      "execution_count": null,
      "metadata": {
        "colab": {
          "base_uri": "https://localhost:8080/"
        },
        "id": "9E5Y9cjUi2qa",
        "outputId": "48181546-8996-434c-826d-73bc571afbed"
      },
      "outputs": [
        {
          "name": "stdout",
          "output_type": "stream",
          "text": [
            "Digite um número:1\n",
            "Digite um número:2\n",
            "Digite um número:3\n",
            "O vetor de todos o números é: [1, 2, 3]\n",
            "Os número pares são: [2] \n",
            "Os número pares são: [1, 3] \n"
          ]
        }
      ],
      "source": [
        "#Questão 01 (Arthur)\n",
        "\n",
        "tam = 20\n",
        "\n",
        "Vetor_numeros = [int] * tam\n",
        "vetor_par = [int] * tam\n",
        "vetor_impar = [int] * tam\n",
        "\n",
        "indice_par = 0\n",
        "indice_impar = 0\n",
        "\n",
        "\n",
        "for i in range(len(vetor_numeros)):\n",
        "  num = int(input(\"Digite um número:\"))\n",
        "  vetor_numeros[i] = num\n",
        "  if vetor_numeros[i] % 2 == 0:\n",
        "    vetor_par[indice_par] = num\n",
        "    indice_par += 1\n",
        "  else:\n",
        "    vetor_impar[indice_impar] = num\n",
        "    indice_impar += 1\n",
        "\n",
        "print(f\"O vetor de todos o números é: {vetor_numeros}\")\n",
        "print(f\"Os número pares são: {vetor_par[:indice_par]} \")\n",
        "print(f\"Os números impares são: {vetor_impar[:indice_impar]} \")"
      ]
    },
    {
      "cell_type": "code",
      "execution_count": null,
      "metadata": {
        "id": "iGUemli9ZX9i"
      },
      "outputs": [],
      "source": [
        "#Questão 02 (Arthur)\n",
        "\n",
        "tam = 8\n",
        "\n",
        "vetor_numeros = [int] * tam\n",
        "\n",
        "for i in range(len(vetor_numeros)):\n",
        "  num = int(input(\"Digite um número: \"))\n",
        "  vetor_numeros[i] = num\n",
        "\n",
        "while True:\n",
        "  indice_x = int(input(\"Digite um indice do vetor: \"))\n",
        "  indice_y = int(input(\"Digite um indice do vetor: \"))\n",
        "  if indice_x < len(vetor_numeros) and indice_y < len(vetor_numeros):\n",
        "    break\n",
        "  else:\n",
        "    print(\"Indice inválido. Tente novamente!\")\n",
        "\n",
        "soma = vetor_numeros[indice_x] + vetor_numeros[indice_y]\n",
        "\n",
        "print(f\"Valor indice X: {vetor_numeros[indice_x]}\")\n",
        "print(f\"Valor indice Y: {vetor_numeros[indice_y]}\")\n",
        "print(f\"A soma dos valores é {soma}\")"
      ]
    },
    {
      "cell_type": "code",
      "execution_count": null,
      "metadata": {
        "colab": {
          "base_uri": "https://localhost:8080/"
        },
        "id": "qc7TFXgkio3Q",
        "outputId": "cdd8981e-f8c6-4cef-c33c-43247365ca02"
      },
      "outputs": [
        {
          "name": "stdout",
          "output_type": "stream",
          "text": [
            "['B', 'O', 'M', '', 'D', 'I', 'A']\n"
          ]
        }
      ],
      "source": [
        "#questão 03 (Arthur)\n",
        "\n",
        "\n",
        "vetor_chave_secreta = ['', \"A\", \"B\", \"C\", \"D\", \"E\", \"F\", \"G\", \"H\", \"I\", \"J\", \"K\", \"L\", \"M\", \"N\", \"O\", \"P\", \"Q\", \"R\", \"S\", \"T\", \"U\",\n",
        "                       \"V\", \"W\", \"X\", \"Y\", \"Z\"]\n",
        "\n",
        "def traduzir(vetor_msg_secreta):\n",
        "  vetor_msg_traduzida = [str] * len(vetor_msg_secreta)\n",
        "  indice_vetor_msg_traduzida = 0\n",
        "  for i in range(len(vetor_msg_secreta)):\n",
        "    vetor_msg_traduzida[indice_vetor_msg_traduzida] = vetor_chave_secreta[vetor_msg_secreta[i]]\n",
        "    indice_vetor_msg_traduzida +=1\n",
        "\n",
        "  return vetor_msg_traduzida\n",
        "\n",
        "\n",
        "vetor_msg_secreta = [2,15,13,0,4,9,1]\n",
        "\n",
        "print(traduzir(vetor_msg_secreta))"
      ]
    },
    {
      "cell_type": "code",
      "execution_count": null,
      "metadata": {
        "colab": {
          "base_uri": "https://localhost:8080/"
        },
        "id": "ge-_9yDvwqbv",
        "outputId": "2a331a46-159c-4174-f333-3e39ec1bd020"
      },
      "outputs": [
        {
          "output_type": "stream",
          "name": "stdout",
          "text": [
            "[8, 0, 7]\n",
            "[4, 5, 6]\n",
            "[3, 10, 2]\n",
            " A soma da linha um da matriz é: 15\n",
            "A soma da linha 2 da matriz é: 15\n",
            "A soma da linha 3 da matriz é: 15\n",
            " A soma da diagonal princinpal é: 15\n",
            " A soma da diagonal secundária é: 15\n"
          ]
        }
      ],
      "source": [
        "#questão 04(Arthur)\n",
        "\n",
        "def somar_linha_matriz(matriz, linha):\n",
        "  soma = 0\n",
        "  for i in range(len(matriz)):\n",
        "    soma += matriz[linha][i]\n",
        "\n",
        "  return soma\n",
        "\n",
        "\n",
        "def somar_diagonal_principal_matriz(matriz):\n",
        "  soma = 0\n",
        "  for i in range(len(matriz)):\n",
        "    for j in range(len(matriz)):\n",
        "      if i == j:\n",
        "        soma += matriz[i][j]\n",
        "  return soma\n",
        "\n",
        "\n",
        "\n",
        "def somar_diagonal_secundaria_matriz(matriz):\n",
        "  k = len(matriz) - 1\n",
        "  soma = 0\n",
        "  for i in range(len(matriz)):\n",
        "    soma += matriz[i][k]\n",
        "    k -= 1\n",
        "\n",
        "  return soma\n",
        "\n",
        "\n",
        "matriz = [\n",
        "    [8,0,7],\n",
        "    [4,5,6],\n",
        "    [3,10,2]\n",
        "]\n",
        "\n",
        "for i in range(len(matriz)):\n",
        "  print(matriz[i])\n",
        "\n",
        "print(f\"A soma da linha um da matriz é: {somar_linha_matriz(matriz, 0)}\")\n",
        "print(f\"A soma da linha 2 da matriz é: {somar_linha_matriz(matriz, 1)}\")\n",
        "print(f\"A soma da linha 3 da matriz é: {somar_linha_matriz(matriz, 2)}\")\n",
        "\n",
        "print(f\"A soma da diagonal princinpal é: {somar_diagonal_principal_matriz(matriz)}\")\n",
        "print(f\"A soma da diagonal secundária é: {somar_diagonal_secundaria_matriz(matriz)}\")\n",
        "\n",
        "\n",
        "\n",
        "\n",
        "\n"
      ]
    },
    {
      "cell_type": "code",
      "execution_count": null,
      "metadata": {
        "colab": {
          "base_uri": "https://localhost:8080/"
        },
        "id": "HEsY5HgdB48A",
        "outputId": "7821a37d-5d7f-415a-ce33-a107ea5df55e"
      },
      "outputs": [
        {
          "name": "stdout",
          "output_type": "stream",
          "text": [
            "[[86, 80, 1, 21, 76], [5, 59, 68, 88, 9], [75, 16, 14, 71, 41], [38, 83, 31, 12, 42], [20, 8, 13, 32, 39]]\n"
          ]
        }
      ],
      "source": [
        "#Questão 05 (Arthur)\n",
        "from random import randint\n",
        "\n",
        "\n",
        "def buscar_matriz(matriz, valor):\n",
        "  for i in range(len(matriz)):\n",
        "    for j in range(len(matriz)):\n",
        "      if matriz[i][j] == valor:\n",
        "        return True\n",
        "  return False\n",
        "\n",
        "def criar_cartela():\n",
        "  matriz_bingo = [int] * 5\n",
        "  for i in range(len(matriz_bingo)):\n",
        "    matriz_bingo[i] = [int] * 5\n",
        "\n",
        "  return matriz_bingo\n",
        "\n",
        "\n",
        "def preencher_cartela():\n",
        "  matriz_bingo = criar_cartela()\n",
        "\n",
        "  for i in range(len(matriz_bingo)):\n",
        "    for j in range(len(matriz_bingo)):\n",
        "      num_aleatorio = randint(0, 99)\n",
        "      if buscar_matriz(matriz_bingo, num_aleatorio) == False:\n",
        "        matriz_bingo[i][j] = num_aleatorio\n",
        "      else:\n",
        "        while True:\n",
        "          novo_numero = randint(0,99)\n",
        "          if buscar_matriz(matriz, novo_numero) == False:\n",
        "           matriz_bingo[i][j] = novo_numero\n",
        "           break\n",
        "\n",
        "  return matriz_bingo\n",
        "\n",
        "\n",
        "print(preencher_cartela())\n",
        "\n",
        "\n"
      ]
    },
    {
      "cell_type": "code",
      "execution_count": null,
      "metadata": {
        "colab": {
          "background_save": true,
          "base_uri": "https://localhost:8080/"
        },
        "id": "RznQliFAjlPu",
        "outputId": "5b746d6a-dd90-44ef-a305-2fe46cdf4012"
      },
      "outputs": [
        {
          "name": "stdout",
          "output_type": "stream",
          "text": [
            "Calcula distancia entre 2 cidades: \n",
            "\n",
            "Distancia entre as cidades é de:  5.0 \n",
            "\n",
            "Calcula porcurso: \n",
            "\n",
            "10.0\n",
            "38.0\n",
            "50.0\n"
          ]
        }
      ],
      "source": [
        "#Questão 6 - Cassiano\n",
        "coordCidades = [[0., 15., 30., 5., 12.],\n",
        "                [15., 0., 10., 17., 28.],\n",
        "                [30., 10., 0., 3., 11.],\n",
        "                [5., 17., 3., 0., 80.],\n",
        "                [12., 28., 11., 80., 0.]]\n",
        "\n",
        "dist2Cidades = [int] * 2\n",
        "\n",
        "print(\"Calcula distancia entre 2 cidades: \\n\")\n",
        "\n",
        "for i in range(2):\n",
        "  linha = int(input(\"Digite a linha da cidade: \"))\n",
        "  coluna = int(input(\"Digite a coluna da cidade: \"))\n",
        "  dist2Cidades[i] = coordCidades[linha][coluna]\n",
        "\n",
        "if dist2Cidades[0] < dist2Cidades[1]:\n",
        "  print(\"Distancia entre as cidades é de: \", dist2Cidades[1]-dist2Cidades[0], \"\\n\")\n",
        "else:\n",
        "  print(\"Distancia entre as cidades é de: \", dist2Cidades[0]-dist2Cidades[1], \"\\n\")\n",
        "\n",
        "print(\"Calcula porcurso: \\n\")\n",
        "percursoatual = 0\n",
        "for i in range(6):\n",
        "  linha = int(input(\"Digite a linha da cidade: \"))\n",
        "  coluna = int(input(\"Digite a coluna da cidade: \"))\n",
        "  percursoatual += coordCidades[linha][coluna]\n",
        "  print(percursoatual)"
      ]
    },
    {
      "cell_type": "code",
      "execution_count": null,
      "metadata": {
        "id": "JbHsxtNB2E2S",
        "colab": {
          "base_uri": "https://localhost:8080/"
        },
        "outputId": "f95dca5f-d153-424b-c129-08037d4d0ede"
      },
      "outputs": [
        {
          "output_type": "stream",
          "name": "stdout",
          "text": [
            "Digite a alternativa da questão 1 do aluno1: a\n",
            "Digite a alternativa da questão 2 do aluno1: b\n",
            "Digite a alternativa da questão 1 do aluno2: c\n",
            "Digite a alternativa da questão 2 do aluno2: d\n",
            "Digite a alternativa da questão 1 do aluno3: a\n",
            "Digite a alternativa da questão 2 do aluno3: b\n",
            "Digite a alternativa da questão 1 do aluno4: c\n",
            "Digite a alternativa da questão 2 do aluno4: d\n",
            "Digite a alternativa da questão 1 do aluno5: a\n",
            "Digite a alternativa da questão 2 do aluno5: d\n",
            "As notas de todos os alunos são: [['a', 'b'], ['c', 'd'], ['a', 'b'], ['c', 'd'], ['a', 'd']]\n",
            "O aluno1 tirou 1\n",
            "O aluno2 tirou 1\n",
            "O aluno3 tirou 1\n",
            "O aluno4 tirou 1\n",
            "O aluno5 tirou 1\n"
          ]
        }
      ],
      "source": [
        "\n",
        "matriz_alunos = [str] * 5\n",
        "vetor_gabarito = ['a', 'c', 'd', 'c', 'a', 'b', 'd', 'b', 'c', 'a']\n",
        "vetor_resultado = []\n",
        "\n",
        "indice_vetor_gabarito = 0\n",
        "pontos = 0\n",
        "\n",
        "for i in range(len(matriz_alunos)):\n",
        "  matriz_alunos[i] = [str] * 10\n",
        "\n",
        "\n",
        "for l in range(len(matriz_alunos)):\n",
        "  for c in range(len(matriz_alunos[0])):\n",
        "    questao = str(input(f\"Digite a alternativa da questão {c + 1} do aluno{l + 1}: \"))\n",
        "    matriz_alunos[l][c] = questao\n",
        "\n",
        "for k in range(len(matriz_alunos)):\n",
        "  for j in range(len(matriz_alunos[0])):\n",
        "    if matriz_alunos[k][j] == vetor_gabarito[indice_vetor_gabarito]:\n",
        "      pontos += 1\n",
        "      indice_vetor_gabarito += 1\n",
        "  vetor_resultado.append(pontos)\n",
        "  pontos = 0\n",
        "  indice_vetor_resultado = 0\n",
        "\n",
        "\n",
        "\n",
        "print(f\"As notas de todos os alunos são: {matriz_alunos}\")\n",
        "for n in range(len(vetor_resultado)):\n",
        "  print(f\"O aluno{n + 1} tirou {vetor_resultado[i]}\")\n",
        "\n",
        "\n",
        "\n"
      ]
    },
    {
      "cell_type": "code",
      "execution_count": null,
      "metadata": {
        "id": "_BBO4bfUHeXB"
      },
      "outputs": [],
      "source": [
        "#Questão 8 - Cassiano\n",
        "\n",
        "matriz = [str] * 3\n",
        "for l in range(len(matriz)):\n",
        "    matriz[l] = [str] * 10\n",
        "\n",
        "gabarito = [str] * 10\n",
        "matricula = [0] * 3\n",
        "notas = [0] * 3\n",
        "percentualAprovacao = [0] * 3\n",
        "\n",
        "for l in range(len(gabarito)):\n",
        "    print(\"Digite o gabarito da questão\", l+1)\n",
        "    gabarito[l] = str(input())\n",
        "\n",
        "print(\"#-#-# Sistema de prova #-#-#\")\n",
        "for l in range(len(matriz)):\n",
        "    print(\"Aluno \" + str(l+1))\n",
        "    matricula[l] = int(input(\"Digite sua matricula: \"))\n",
        "    for c in range(len(matriz[l])):\n",
        "        print(\"Digite a resposta da questão\", c+1)\n",
        "        matriz[l][c] = str(input())\n",
        "\n",
        "for l in range(len(matriz)):\n",
        "    for c in range(len(matriz[l])):\n",
        "        if matriz[l][c] == gabarito[c]:\n",
        "            notas[l] +=1\n",
        "    percentualAprovacao[l] = notas[l] * 10\n",
        "\n",
        "\n",
        "for l in range(len(matriz)):\n",
        "    print(\"Aluno da matrícula: \", matricula[l])\n",
        "    print(\"respostas: \")\n",
        "    for c in range(len(matriz[l])):\n",
        "        print(matriz[l][c])\n",
        "    print(\"Nota: \", notas[l])\n",
        "    if percentualAprovacao[l] >= 70:\n",
        "        print(\"Aluno aprovado com \", percentualAprovacao[l], \"% de acertos\")\n",
        "    else:\n",
        "        print(\"Aluno reprovado com\", percentualAprovacao[l],\"% de acertos\")\n",
        "\n"
      ]
    },
    {
      "cell_type": "code",
      "execution_count": null,
      "metadata": {
        "colab": {
          "base_uri": "https://localhost:8080/"
        },
        "id": "sqBwEGqRm9r8",
        "outputId": "3d30f407-38cd-45fa-d691-9798114ccd35"
      },
      "outputs": [
        {
          "name": "stdout",
          "output_type": "stream",
          "text": [
            "Digite o valor \t1\n",
            "Digite o valor \t2\n",
            "Digite o valor \t3\n",
            "Digite o valor \t4\n",
            "Digite o valor \t5\n",
            "Digite o valor \t6\n",
            "Digite o valor \t7\n",
            "Digite o valor \t8\n",
            "Digite o valor \t9\n",
            "[1, 2, 3]\n",
            "[4, 5, 6]\n",
            "[7, 8, 9]\n",
            "soma de cada coluna: \n",
            "[12, 15, 18]\n"
          ]
        }
      ],
      "source": [
        "\n",
        "#Questão 9 - Cassiano\n",
        "\n",
        "\n",
        "#cria matriz e array\n",
        "matriz = [0] * 3\n",
        "for l in range(len(matriz)):\n",
        "    matriz[l] = [0] * 3\n",
        "soma_coluna = [0] * 3\n",
        "\n",
        "#preenche matriz\n",
        "for l in range(len(matriz)):\n",
        "    for c in range(len(matriz[l])):\n",
        "        matriz[l][c] = int(input(\"Digite o valor \\t\"))\n",
        "\n",
        "for i in range(len(matriz)):\n",
        "    print(matriz[i])\n",
        "\n",
        "for i in range(len(matriz)):\n",
        "    for c in range(len(matriz[i])):\n",
        "        soma_coluna[i] += matriz[c][i]\n",
        "\n",
        "\n",
        "print(\"soma de cada coluna: \")\n",
        "print(soma_coluna)"
      ]
    },
    {
      "cell_type": "code",
      "execution_count": null,
      "metadata": {
        "colab": {
          "base_uri": "https://localhost:8080/"
        },
        "id": "BFLHllEJIfOw",
        "outputId": "645545a4-571e-4b2e-f8b7-92fc79338af5"
      },
      "outputs": [
        {
          "data": {
            "text/plain": [
              "[{'linha': 1, 'coluna': 2},\n",
              " {'linha': 2, 'coluna': 0},\n",
              " {'linha': 2, 'coluna': 2}]"
            ]
          },
          "execution_count": 5,
          "metadata": {},
          "output_type": "execute_result"
        }
      ],
      "source": [
        "#Questão 10 - Arthur\n",
        "\n",
        "def print_tabela(tabela):\n",
        "  for i in range(len(tabela)):\n",
        "    print(tabela[i])\n",
        "\n",
        "\n",
        "def pegar_posicao_vazia(tabela):\n",
        "  vetor_pos_vazio = []\n",
        "  position = {}\n",
        "  for i in range(len(tabela)):\n",
        "    for j in range(len(tabela)):\n",
        "      if tabela[i][j] == 0:\n",
        "        position['linha'] = i\n",
        "        position['coluna'] = j\n",
        "        vetor_pos_vazio.append(position)\n",
        "        position = {}\n",
        "  return vetor_pos_vazio\n",
        "\n",
        "\n",
        "def verificar_vitoria_linha(tabela, linha):\n",
        "  if tabela[linha][0] == -1 and tabela[linha][1] == -1 and tabela[linha][2] == -1:\n",
        "    return True\n",
        "  elif tabela[linha][0] == 1 and tabela[linha][1] == 1 and tabela[linha][2] == 1:\n",
        "    return True\n",
        "  return False\n",
        "\n",
        "\n",
        "def verificar_vitoria_coluna(tabela, coluna):\n",
        "  if tabela[0][coluna] == 1 and tabela[1][coluna] == 1 and tabela[2][coluna] == 1:\n",
        "    return True\n",
        "  elif tabela[0][coluna] == -1 and tabela[1][coluna] == -1 and tabela[2][coluna] == -1:\n",
        "    return True\n",
        "  return False\n",
        "\n",
        "\n",
        "def verificar_vitoria_diagonal(tabela):\n",
        "  if tabela[0][0] == 1 and tabela[1][1] == 1 and tabela[2][2] == 1:\n",
        "    return True\n",
        "  elif tabela[0][0] == -1 and tabela[1][1] == -1 and tabela[2][2] == -1:\n",
        "    return True\n",
        "  elif tabela[0][2] == 1 and tabela[1][1] == 1 and tabela[2][0] == 1:\n",
        "    return True\n",
        "  elif tabela[0][2] == -1 and tabela[1][1] == -1 and tabela[2][0] == -1:\n",
        "    return True\n",
        "  return False\n",
        "\n",
        "\n",
        "def proxima_jogada(tabela):\n",
        "  pos_vazia = pegar_posicao_vazia(tabela)\n",
        "  lista_proxima_jogada = []\n",
        "\n",
        "  for i in range(len(pos_vazia)):\n",
        "    pos_i = pos_vazia[i]['linha']\n",
        "    pos_j = pos_vazia[i]['coluna']\n",
        "    tabela[pos_i][pos_j] = -1\n",
        "    if verificar_vitoria_linha(tabela, pos_i):\n",
        "      if pos_vazia[i] not in lista_proxima_jogada:\n",
        "        lista_proxima_jogada.append(pos_vazia[i])\n",
        "    elif verificar_vitoria_coluna(tabela, pos_j):\n",
        "      if pos_vazia[i] not in lista_proxima_jogada:\n",
        "        lista_proxima_jogada.append(pos_vazia[i])\n",
        "    elif verificar_vitoria_diagonal(tabela):\n",
        "      if pos_vazia[i] not in lista_proxima_jogada:\n",
        "        lista_proxima_jogada.append(pos_vazia[i])\n",
        "    else:\n",
        "      tabela[pos_i][pos_j] = 0\n",
        "\n",
        "\n",
        "  for j in range(len(pos_vazia)):\n",
        "    pos_i = pos_vazia[j]['linha']\n",
        "    pos_j = pos_vazia[j]['coluna']\n",
        "    tabela[pos_i][pos_j] = 1\n",
        "    if verificar_vitoria_linha(tabela, pos_i):\n",
        "      if pos_vazia[i] not in lista_proxima_jogada:\n",
        "        lista_proxima_jogada.append(pos_vazia[i])\n",
        "    elif verificar_vitoria_coluna(tabela, pos_j):\n",
        "      if pos_vazia[i] not in lista_proxima_jogada:\n",
        "        lista_proxima_jogada.append(pos_vazia[i])\n",
        "    elif verificar_vitoria_diagonal(tabela):\n",
        "      if pos_vazia[i] not in lista_proxima_jogada:\n",
        "        lista_proxima_jogada.append(pos_vazia[i])\n",
        "    else:\n",
        "      tabela[pos_i][pos_j] = 0\n",
        "\n",
        "\n",
        "  return lista_proxima_jogada\n",
        "\n",
        "\n",
        "\n",
        "tabela = [\n",
        "    [-1,1,-1],\n",
        "    [-1,-1,0],\n",
        "    [0,1,0]\n",
        "]\n",
        "\n",
        "proxima_jogada(tabela)\n"
      ]
    }
  ],
  "metadata": {
    "colab": {
      "provenance": [],
      "include_colab_link": true
    },
    "kernelspec": {
      "display_name": "Python 3",
      "name": "python3"
    },
    "language_info": {
      "name": "python"
    }
  },
  "nbformat": 4,
  "nbformat_minor": 0
}